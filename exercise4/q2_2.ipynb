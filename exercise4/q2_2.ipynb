{
 "cells": [
  {
   "cell_type": "code",
   "execution_count": 2,
   "metadata": {
    "collapsed": false
   },
   "outputs": [],
   "source": [
    "from scipy.spatial import distance\n",
    "import numpy as np\n",
    "from operator import itemgetter\n",
    "import operator\n",
    "from sklearn.metrics import accuracy_score\n",
    "import random\n",
    "from sklearn import cross_validation\n",
    "from collections import Counter\n",
    "from sklearn.preprocessing import MinMaxScaler\n",
    "from sklearn.preprocessing import StandardScaler\n",
    "\n",
    "\"\"\"x_train=np.loadtxt(\"mload_ml_sets/set1/x_train.np\")\n",
    "y_train=np.loadtxt(\"mload_ml_sets/set1/y_train.np\")\n",
    "x_test=np.loadtxt(\"mload_ml_sets/set1/x_test.np\")\n",
    "x_train2=np.loadtxt('mload_ml_sets/set2/x_train.np')\n",
    "y_train2=np.loadtxt('mload_ml_sets/set2/y_train.np')\n",
    "x_test2=np.loadtxt('mload_ml_sets/set2/x_test.np')\n",
    "\"\"\"\n",
    "#k=10\n",
    "minmaxscaler = MinMaxScaler()\n",
    "standardscaler = StandardScaler()\n",
    "\n",
    "#choose=\"L1\"\n",
    "ecu_dis=[]\n",
    "dst=[]\n",
    "index_ten=[]\n",
    "dic={}\n",
    "\n",
    "def preprocess(X,m):    #m=1 for minmaxscaler, m=2 for standardscaler, m=0 for no preprocessing\n",
    "    if m == 1:\n",
    "        return minmaxscaler.fit_transform(X)\n",
    "    elif m == 2:\n",
    "        return standardscaler.fit_transform(X)\n",
    "    return X\n",
    "\n",
    "def ecludean_distance(x_train,x_test,y_train,k):\n",
    "    #ecu_dis=[]\n",
    "    #dst=[]\n",
    "    #index_ten=[]\n",
    "    #dic={}\n",
    "    y_test=np.zeros(len(x_test[:,0]))\n",
    "    lenght_xtrain=len(x_train)\n",
    "    lenght_xtest=len(x_test)\n",
    "    for y in range(lenght_xtest):\n",
    "        for x in range(lenght_xtrain):\n",
    "            dst = distance.euclidean(x_train[x,:],x_test[y,:])\n",
    "            dic.update({x:dst})\n",
    "            \n",
    "        sorted_x = sorted(dic.items(), key=operator.itemgetter(1))\n",
    "        index_ten=[]\n",
    "        \n",
    "        for z in range(k):\n",
    "            index_ten.append((sorted_x[z]))\n",
    "        index=map(itemgetter(0), index_ten)\n",
    "        y_trainf=[]\n",
    "        \n",
    "        for w in range(len(index)-1):\n",
    "            index_index=index[w]\n",
    "            y_trainf.append(y_train[index_index])\n",
    "        zeros=y_trainf.count(0)\n",
    "        ones=y_trainf.count(1)\n",
    "        y_trainf\n",
    "        a=0\n",
    "        b=1\n",
    "        c=random.choice([0,1])\n",
    "        if zeros>ones:\n",
    "            y_test[y] = a\n",
    "        elif ones>zeros:\n",
    "            y_test[y] = b\n",
    "        else:\n",
    "            y_test[y] = c\n",
    "    return y_test\n",
    "\n",
    "def Manhattan_distance(x_train,x_test,y_train,k):\n",
    "    y_test=np.zeros(len(x_test))\n",
    "    lenght_xtrain=len(x_train)\n",
    "    lenght_xtest=len(x_test)\n",
    "    for y in range(lenght_xtest):\n",
    "        for x in range(lenght_xtrain):\n",
    "            dst = distance.cityblock(x_train[x,:],x_test[y,:])\n",
    "            dic.update({x:dst})\n",
    "        sorted_x = sorted(dic.items(), key=operator.itemgetter(1))\n",
    "        index_ten=[]\n",
    "        for z in range(k):\n",
    "            index_ten.append((sorted_x[z]))\n",
    "        index=map(itemgetter(0), index_ten)\n",
    "        y_trainf=[]\n",
    "        for w in range(len(index)-1):\n",
    "            index_index=index[w]\n",
    "            y_trainf.append(y_train[index_index])\n",
    "        zeros=y_trainf.count(0)\n",
    "        ones=y_trainf.count(1)\n",
    "        y_trainf\n",
    "        a=0\n",
    "        b=1\n",
    "        c=random.choice([0,1])\n",
    "        if zeros>ones:\n",
    "            y_test[y] = a\n",
    "        elif ones>zeros:\n",
    "            y_test[y] = b\n",
    "        else:\n",
    "            y_test[y] = c\n",
    "    return y_test\n",
    "\n",
    "def KFold(X_data,X_target):\n",
    "    kf = cross_validation.KFold(len(X_data), n_folds=10,shuffle=False)\n",
    "    for train_index, test_index in kf:\n",
    "        cv_xtrain,cv_xtest = X_data[train_index], X_data[test_index]\n",
    "        cv_ytrain,cv_ytest = X_target[train_index],X_target[test_index]\n",
    "        return cv_xtrain,cv_ytrain,cv_xtest,cv_ytest\n",
    "\n",
    "def accuracy_Score(y_true, y_pred):\n",
    "    score =accuracy_score(y_true, y_pred)\n",
    "    #print score\n",
    "    return score\n",
    "#############################################################"
   ]
  },
  {
   "cell_type": "code",
   "execution_count": 3,
   "metadata": {
    "collapsed": false
   },
   "outputs": [
    {
     "name": "stdout",
     "output_type": "stream",
     "text": [
      "CPU times: user 12min 51s, sys: 5.21 s, total: 12min 56s\n",
      "Wall time: 12min 52s\n"
     ]
    }
   ],
   "source": [
    "%%time\n",
    "#scr1 = np.ones(33)\n",
    "\n",
    "x_train=np.loadtxt(\"mload_ml_sets/set1/x_train.np\")\n",
    "y_train=np.loadtxt(\"mload_ml_sets/set1/y_train.np\")\n",
    "\n",
    "\n",
    "scr1 = [[],[],[],[],[],[],[],[],[],[]]\n",
    "for i in range(len(scr1)):\n",
    "    #j=-1\n",
    "    cv_xtrain, cv_ytrain, cv_xtest, cv_ytest = KFold(x_train, y_train)\n",
    "\n",
    "    cv_xtrain = preprocess(cv_xtrain,1)    #MinMaxPreprocessing\n",
    "    cv_xtest = preprocess(cv_xtest,1)\n",
    "    \n",
    "    for k in range(1,34):\n",
    "        #j+=1\n",
    "        #k=1    #k in kNN\n",
    "        y_test = ecludean_distance(cv_xtrain,cv_xtest,cv_ytrain,k) #x_train,x_test,y_train,k\n",
    "        score = accuracy_Score(cv_ytest,y_test)\n",
    "        #print score\n",
    "        scr1[i].append(score)\n",
    "    \n",
    "#print np.average(scr)\n",
    "#print \"OK\""
   ]
  },
  {
   "cell_type": "code",
   "execution_count": 4,
   "metadata": {
    "collapsed": false,
    "scrolled": true
   },
   "outputs": [],
   "source": [
    "avg_scr1 =[]\n",
    "for i in range(len(scr1[0])):\n",
    "    avg_scr1.append((scr1[0][i]\n",
    "                   +scr1[1][i]\n",
    "                   +scr1[2][i]\n",
    "                    +scr1[3][i]\n",
    "                    +scr1[4][i]\n",
    "                    +scr1[5][i]\n",
    "                    +scr1[6][i]\n",
    "                    +scr1[7][i]\n",
    "                    +scr1[8][i]\n",
    "                    +scr1[9][i])/10)"
   ]
  },
  {
   "cell_type": "code",
   "execution_count": 9,
   "metadata": {
    "collapsed": false
   },
   "outputs": [
    {
     "name": "stdout",
     "output_type": "stream",
     "text": [
      "[0.51208791208791216, 0.81318681318681318, 0.84395604395604396, 0.84615384615384603, 0.82087912087912085, 0.81318681318681318, 0.83736263736263727, 0.84615384615384603, 0.83956043956043958, 0.85714285714285698, 0.83846153846153837, 0.83516483516483508, 0.84175824175824165, 0.84615384615384603, 0.84065934065934056, 0.84615384615384603, 0.85054945054945041, 0.84615384615384603, 0.84615384615384603, 0.84615384615384603, 0.84945054945054932, 0.85714285714285698, 0.85714285714285698, 0.85714285714285698, 0.85714285714285698, 0.85714285714285698, 0.85054945054945041, 0.85714285714285698, 0.86373626373626355, 0.85714285714285698, 0.85714285714285698, 0.85714285714285698, 0.84945054945054932]\n"
     ]
    }
   ],
   "source": [
    "print avg_scr1"
   ]
  },
  {
   "cell_type": "code",
   "execution_count": 6,
   "metadata": {
    "collapsed": false
   },
   "outputs": [
    {
     "name": "stdout",
     "output_type": "stream",
     "text": [
      "CPU times: user 52min 32s, sys: 21.6 s, total: 52min 54s\n",
      "Wall time: 52min 35s\n"
     ]
    }
   ],
   "source": [
    "%%time\n",
    "#scr1 = np.ones(33)\n",
    "\n",
    "x_train=np.loadtxt(\"mload_ml_sets/set2/x_train.np\")\n",
    "y_train=np.loadtxt(\"mload_ml_sets/set2/y_train.np\")\n",
    "\n",
    "\n",
    "scr2 = [[],[],[],[],[],[],[],[],[],[]]\n",
    "for i in range(len(scr2)):\n",
    "    #j=-1\n",
    "    cv_xtrain, cv_ytrain, cv_xtest, cv_ytest = KFold(x_train, y_train)\n",
    "\n",
    "    cv_xtrain = preprocess(cv_xtrain,1)    #MinMaxPreprocessing\n",
    "    cv_xtest = preprocess(cv_xtest,1)\n",
    "    \n",
    "    for k in range(1,34):\n",
    "        #j+=1\n",
    "        #k=1    #k in kNN\n",
    "        y_test = ecludean_distance(cv_xtrain,cv_xtest,cv_ytrain,k) #x_train,x_test,y_train,k\n",
    "        score = accuracy_Score(cv_ytest,y_test)\n",
    "        #print score\n",
    "        scr2[i].append(score)\n",
    "    \n",
    "#print np.average(scr)\n",
    "#print \"OK\""
   ]
  },
  {
   "cell_type": "code",
   "execution_count": 7,
   "metadata": {
    "collapsed": true
   },
   "outputs": [],
   "source": [
    "avg_scr2 =[]\n",
    "for i in range(len(scr2[0])):\n",
    "    avg_scr2.append((scr2[0][i]\n",
    "                   +scr2[1][i]\n",
    "                   +scr2[2][i]\n",
    "                    +scr2[3][i]\n",
    "                    +scr2[4][i]\n",
    "                    +scr2[5][i]\n",
    "                    +scr2[6][i]\n",
    "                    +scr2[7][i]\n",
    "                    +scr2[8][i]\n",
    "                    +scr2[9][i])/10)"
   ]
  },
  {
   "cell_type": "code",
   "execution_count": 10,
   "metadata": {
    "collapsed": false
   },
   "outputs": [
    {
     "name": "stdout",
     "output_type": "stream",
     "text": [
      "[0.50883977900552491, 0.95580110497237558, 0.95469613259668495, 0.96685082872928185, 0.97182320441988934, 0.98342541436464104, 0.97624309392265207, 0.97237569060773477, 0.97734806629834237, 0.97790055248618779, 0.97900552486187853, 0.97237569060773477, 0.98011049723756893, 0.98342541436464104, 0.97182320441988934, 0.98342541436464104, 0.98011049723756893, 0.98895027624309395, 0.97955801104972373, 0.97790055248618779, 0.97569060773480643, 0.97790055248618779, 0.98121546961325967, 0.98342541436464104, 0.97955801104972373, 0.97790055248618779, 0.98397790055248624, 0.97790055248618779, 0.9745856353591158, 0.97790055248618779, 0.97790055248618779, 0.97790055248618779, 0.97237569060773477]\n"
     ]
    }
   ],
   "source": [
    "print avg_scr2"
   ]
  },
  {
   "cell_type": "code",
   "execution_count": 27,
   "metadata": {
    "collapsed": false
   },
   "outputs": [],
   "source": [
    "import matplotlib.pyplot as plt\n",
    "plt.xlabel('k')\n",
    "plt.ylabel('Accuracy (10-fold CV)')\n",
    "plt.title('Set1: Red, Set2: Blue')\n",
    "plt.grid(True)\n",
    "plt.plot(range(1,34),avg_scr1,\"b\",range(1,34), avg_scr2,\"r\")\n",
    "plt.show()"
   ]
  },
  {
   "cell_type": "code",
   "execution_count": null,
   "metadata": {
    "collapsed": true
   },
   "outputs": [],
   "source": []
  }
 ],
 "metadata": {
  "kernelspec": {
   "display_name": "Python 2",
   "language": "python",
   "name": "python2"
  },
  "language_info": {
   "codemirror_mode": {
    "name": "ipython",
    "version": 2
   },
   "file_extension": ".py",
   "mimetype": "text/x-python",
   "name": "python",
   "nbconvert_exporter": "python",
   "pygments_lexer": "ipython2",
   "version": "2.7.10"
  }
 },
 "nbformat": 4,
 "nbformat_minor": 0
}
